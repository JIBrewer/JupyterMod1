{
 "cells": [
  {
   "cell_type": "code",
   "execution_count": 2,
   "id": "4b277049",
   "metadata": {},
   "outputs": [
    {
     "name": "stdout",
     "output_type": "stream",
     "text": [
      "Enter First and Lastname James Brewer\n"
     ]
    }
   ],
   "source": [
    "userName = input(\"Enter First and Lastname \")"
   ]
  },
  {
   "cell_type": "code",
   "execution_count": 3,
   "id": "b4a3913f",
   "metadata": {},
   "outputs": [
    {
     "name": "stdout",
     "output_type": "stream",
     "text": [
      "James Brewer\n"
     ]
    }
   ],
   "source": [
    "print(userName)"
   ]
  },
  {
   "cell_type": "code",
   "execution_count": 6,
   "id": "b30f9636",
   "metadata": {},
   "outputs": [
    {
     "data": {
      "text/plain": [
       "'rewerB semaJ'"
      ]
     },
     "execution_count": 6,
     "metadata": {},
     "output_type": "execute_result"
    }
   ],
   "source": [
    "userName[::-1]"
   ]
  },
  {
   "cell_type": "code",
   "execution_count": 27,
   "id": "ac3c9953",
   "metadata": {},
   "outputs": [
    {
     "name": "stdout",
     "output_type": "stream",
     "text": [
      "Enter a Random Number: 10\n"
     ]
    }
   ],
   "source": [
    "ranNum = int(input(\"Enter a Random Number: \"))\n"
   ]
  },
  {
   "cell_type": "code",
   "execution_count": 28,
   "id": "d15aa0a0",
   "metadata": {},
   "outputs": [
    {
     "name": "stdout",
     "output_type": "stream",
     "text": [
      "230\n"
     ]
    }
   ],
   "source": [
    "print(ranNum + 20 + 200)\n"
   ]
  },
  {
   "cell_type": "code",
   "execution_count": 29,
   "id": "5b9f3203",
   "metadata": {},
   "outputs": [
    {
     "name": "stdout",
     "output_type": "stream",
     "text": [
      "What country are you from? United States of America\n"
     ]
    }
   ],
   "source": [
    "yourCountry = input(\"What country are you from? \")"
   ]
  },
  {
   "cell_type": "code",
   "execution_count": 35,
   "id": "83043045",
   "metadata": {},
   "outputs": [
    {
     "name": "stdout",
     "output_type": "stream",
     "text": [
      "I have heard that United States of America is a beautiful country!\n"
     ]
    }
   ],
   "source": [
    "print(\"I have heard that \" + yourCountry + \" is a beautiful country!\")"
   ]
  },
  {
   "cell_type": "code",
   "execution_count": 38,
   "id": "385f4ba7",
   "metadata": {},
   "outputs": [],
   "source": [
    "# The out put below is nothing because the if statement is false and there is no else statement to print.\n"
   ]
  },
  {
   "cell_type": "code",
   "execution_count": 37,
   "id": "0f25b59b",
   "metadata": {},
   "outputs": [],
   "source": [
    "x = 10\n",
    "y = 50\n",
    "if (x ** 2 > 100 and y < 100):\n",
    "    print(x,y)A\n",
    "    "
   ]
  },
  {
   "cell_type": "code",
   "execution_count": 42,
   "id": "081fbef4",
   "metadata": {},
   "outputs": [],
   "source": [
    "# The output of the + operator is adding the 30 and 40 to the list in order. It executes like this because we first defined \n",
    "# a is 10, 20 but right after that we defined b as a which makes b 10,20 as well. "
   ]
  },
  {
   "cell_type": "code",
   "execution_count": 41,
   "id": "24af1803",
   "metadata": {},
   "outputs": [
    {
     "name": "stdout",
     "output_type": "stream",
     "text": [
      "[10, 20, 30, 40]\n",
      "[10, 20, 30, 40]\n"
     ]
    }
   ],
   "source": [
    "a = [10, 20]\n",
    "b = a\n",
    "b+= [30, 40]\n",
    "print(a)\n",
    "print(b)\n"
   ]
  },
  {
   "cell_type": "code",
   "execution_count": 44,
   "id": "19e76700",
   "metadata": {},
   "outputs": [],
   "source": [
    "# The output of the below code is 2 because you cannot put 6 into any number of times so the answer will always be the \n",
    "# original number which is 2 in this case."
   ]
  },
  {
   "cell_type": "code",
   "execution_count": 43,
   "id": "eabb9aab",
   "metadata": {},
   "outputs": [
    {
     "name": "stdout",
     "output_type": "stream",
     "text": [
      "2\n"
     ]
    }
   ],
   "source": [
    "print(2%6)\n"
   ]
  },
  {
   "cell_type": "code",
   "execution_count": 45,
   "id": "dc66a6be",
   "metadata": {},
   "outputs": [],
   "source": [
    "# The output of the below code is 216. The ** operators \"power\" indicator. Meaning the 3**3 means 3 to the 3rd power.\n",
    "# You can also look at it like 3*3*3 which is 27.\n",
    "# So the new arithmetic would be 2*27*4 which equals 216"
   ]
  },
  {
   "cell_type": "code",
   "execution_count": 46,
   "id": "d9a345ad",
   "metadata": {},
   "outputs": [
    {
     "name": "stdout",
     "output_type": "stream",
     "text": [
      "216\n"
     ]
    }
   ],
   "source": [
    "print(2 * 3 ** 3 * 4)\n"
   ]
  },
  {
   "cell_type": "code",
   "execution_count": 47,
   "id": "ffeae8b5",
   "metadata": {},
   "outputs": [],
   "source": [
    "# A text editor allows you ro build and run code. Also you can edit, make changes to a file, open and view plain text files.\n"
   ]
  },
  {
   "cell_type": "code",
   "execution_count": 48,
   "id": "aa589213",
   "metadata": {},
   "outputs": [],
   "source": [
    "# Python is programming language created by Guido van Rossum around 1991 that is now supported on multiple OS's.\n"
   ]
  },
  {
   "cell_type": "code",
   "execution_count": null,
   "id": "5775178f",
   "metadata": {},
   "outputs": [],
   "source": [
    "# Jupyter notebook is a software used to develop open source software generally for Python. It acts as an IDE\n",
    "# Other alternitives to Jupyter is Notepad++, Pycharm, Visual Studio, Sublime and Spyder to name a few."
   ]
  }
 ],
 "metadata": {
  "kernelspec": {
   "display_name": "Python 3 (ipykernel)",
   "language": "python",
   "name": "python3"
  },
  "language_info": {
   "codemirror_mode": {
    "name": "ipython",
    "version": 3
   },
   "file_extension": ".py",
   "mimetype": "text/x-python",
   "name": "python",
   "nbconvert_exporter": "python",
   "pygments_lexer": "ipython3",
   "version": "3.9.12"
  }
 },
 "nbformat": 4,
 "nbformat_minor": 5
}
